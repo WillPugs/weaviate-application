{
 "cells": [
  {
   "cell_type": "markdown",
   "metadata": {},
   "source": [
    "# Weaviate Challenge Solution\n",
    "## William Pugsley\n",
    "\n",
    "We will explore the [LinkedIn job postings (2023-2024) dataset](https://www.kaggle.com/datasets/arshkon/linkedin-job-postings/) from Kaggle. The purpose of this project is to cluster job postings in the machine learning field.\n",
    "\n",
    "Requires the postings.csv file from Kaggle to be in the directory.\n",
    "\n",
    "\n",
    "\n",
    "Explore data\n",
    "\n",
    "Engineer data (salaries, no descriptions, etc.)\n",
    "\n",
    "Add files to Weaviate server\n",
    "\n",
    "Find jobs closest to data science, machine learning, AI\n",
    "\n",
    "plot scatter plots of salary vs. views, views vs. applies, "
   ]
  },
  {
   "cell_type": "code",
   "execution_count": 1,
   "metadata": {},
   "outputs": [],
   "source": [
    "import numpy as np\n",
    "import pandas as pd\n",
    "import matplotlib.pyplot as plt\n",
    "import seaborn as sns\n",
    "import json\n",
    "import requests\n",
    "import os\n",
    "import weaviate\n",
    "import weaviate.classes as wvc\n",
    "from scipy.stats import linregress\n",
    "from sklearn.preprocessing import LabelEncoder"
   ]
  },
  {
   "cell_type": "markdown",
   "metadata": {},
   "source": [
    "# Preliminaries"
   ]
  },
  {
   "cell_type": "code",
   "execution_count": 2,
   "metadata": {},
   "outputs": [],
   "source": [
    "#reads a file that holds all the API keys and URLs\n",
    "\n",
    "# open the file in read mode\n",
    "with open(\"secrets.txt\", 'r') as file:\n",
    "    # read lines from the file\n",
    "    lines = file.readlines()\n",
    "\n",
    "secrets = {}\n",
    "\n",
    "# iterate through each line and split key-value pairs\n",
    "for line in lines:\n",
    "    key, value = line.strip().split(',')\n",
    "    secrets[key.strip()] = value.strip()"
   ]
  },
  {
   "cell_type": "markdown",
   "metadata": {},
   "source": [
    "# Data Exploration\n",
    "\n",
    "We will start by exploring the dataset, extracting the relevant instances, and engineering new fields."
   ]
  },
  {
   "cell_type": "code",
   "execution_count": 3,
   "metadata": {},
   "outputs": [],
   "source": [
    "df_postings_raw = pd.read_csv(\"postings.csv\")"
   ]
  },
  {
   "cell_type": "code",
   "execution_count": 4,
   "metadata": {},
   "outputs": [
    {
     "data": {
      "text/html": [
       "<div>\n",
       "<style scoped>\n",
       "    .dataframe tbody tr th:only-of-type {\n",
       "        vertical-align: middle;\n",
       "    }\n",
       "\n",
       "    .dataframe tbody tr th {\n",
       "        vertical-align: top;\n",
       "    }\n",
       "\n",
       "    .dataframe thead th {\n",
       "        text-align: right;\n",
       "    }\n",
       "</style>\n",
       "<table border=\"1\" class=\"dataframe\">\n",
       "  <thead>\n",
       "    <tr style=\"text-align: right;\">\n",
       "      <th></th>\n",
       "      <th>job_id</th>\n",
       "      <th>company_name</th>\n",
       "      <th>title</th>\n",
       "      <th>description</th>\n",
       "      <th>max_salary</th>\n",
       "      <th>pay_period</th>\n",
       "      <th>location</th>\n",
       "      <th>company_id</th>\n",
       "      <th>views</th>\n",
       "      <th>med_salary</th>\n",
       "      <th>...</th>\n",
       "      <th>expiry</th>\n",
       "      <th>closed_time</th>\n",
       "      <th>formatted_experience_level</th>\n",
       "      <th>skills_desc</th>\n",
       "      <th>listed_time</th>\n",
       "      <th>posting_domain</th>\n",
       "      <th>sponsored</th>\n",
       "      <th>work_type</th>\n",
       "      <th>currency</th>\n",
       "      <th>compensation_type</th>\n",
       "    </tr>\n",
       "  </thead>\n",
       "  <tbody>\n",
       "    <tr>\n",
       "      <th>0</th>\n",
       "      <td>921716</td>\n",
       "      <td>Corcoran Sawyer Smith</td>\n",
       "      <td>Marketing Coordinator</td>\n",
       "      <td>Job descriptionA leading real estate firm in N...</td>\n",
       "      <td>20.0</td>\n",
       "      <td>HOURLY</td>\n",
       "      <td>Princeton, NJ</td>\n",
       "      <td>2774458.0</td>\n",
       "      <td>20.0</td>\n",
       "      <td>NaN</td>\n",
       "      <td>...</td>\n",
       "      <td>1.715990e+12</td>\n",
       "      <td>NaN</td>\n",
       "      <td>NaN</td>\n",
       "      <td>Requirements: \\n\\nWe are seeking a College or ...</td>\n",
       "      <td>1.713398e+12</td>\n",
       "      <td>NaN</td>\n",
       "      <td>0</td>\n",
       "      <td>FULL_TIME</td>\n",
       "      <td>USD</td>\n",
       "      <td>BASE_SALARY</td>\n",
       "    </tr>\n",
       "    <tr>\n",
       "      <th>1</th>\n",
       "      <td>1829192</td>\n",
       "      <td>NaN</td>\n",
       "      <td>Mental Health Therapist/Counselor</td>\n",
       "      <td>At Aspen Therapy and Wellness , we are committ...</td>\n",
       "      <td>50.0</td>\n",
       "      <td>HOURLY</td>\n",
       "      <td>Fort Collins, CO</td>\n",
       "      <td>NaN</td>\n",
       "      <td>1.0</td>\n",
       "      <td>NaN</td>\n",
       "      <td>...</td>\n",
       "      <td>1.715450e+12</td>\n",
       "      <td>NaN</td>\n",
       "      <td>NaN</td>\n",
       "      <td>NaN</td>\n",
       "      <td>1.712858e+12</td>\n",
       "      <td>NaN</td>\n",
       "      <td>0</td>\n",
       "      <td>FULL_TIME</td>\n",
       "      <td>USD</td>\n",
       "      <td>BASE_SALARY</td>\n",
       "    </tr>\n",
       "  </tbody>\n",
       "</table>\n",
       "<p>2 rows × 28 columns</p>\n",
       "</div>"
      ],
      "text/plain": [
       "    job_id           company_name                              title  \\\n",
       "0   921716  Corcoran Sawyer Smith              Marketing Coordinator   \n",
       "1  1829192                    NaN  Mental Health Therapist/Counselor   \n",
       "\n",
       "                                         description  max_salary pay_period  \\\n",
       "0  Job descriptionA leading real estate firm in N...        20.0     HOURLY   \n",
       "1  At Aspen Therapy and Wellness , we are committ...        50.0     HOURLY   \n",
       "\n",
       "           location  company_id  views  med_salary  ...        expiry  \\\n",
       "0     Princeton, NJ   2774458.0   20.0         NaN  ...  1.715990e+12   \n",
       "1  Fort Collins, CO         NaN    1.0         NaN  ...  1.715450e+12   \n",
       "\n",
       "  closed_time  formatted_experience_level  \\\n",
       "0         NaN                         NaN   \n",
       "1         NaN                         NaN   \n",
       "\n",
       "                                         skills_desc   listed_time  \\\n",
       "0  Requirements: \\n\\nWe are seeking a College or ...  1.713398e+12   \n",
       "1                                                NaN  1.712858e+12   \n",
       "\n",
       "  posting_domain sponsored  work_type  currency  compensation_type  \n",
       "0            NaN         0  FULL_TIME       USD        BASE_SALARY  \n",
       "1            NaN         0  FULL_TIME       USD        BASE_SALARY  \n",
       "\n",
       "[2 rows x 28 columns]"
      ]
     },
     "execution_count": 4,
     "metadata": {},
     "output_type": "execute_result"
    }
   ],
   "source": [
    "df_postings_raw.head(2)"
   ]
  },
  {
   "cell_type": "code",
   "execution_count": 5,
   "metadata": {},
   "outputs": [
    {
     "name": "stdout",
     "output_type": "stream",
     "text": [
      "<class 'pandas.core.frame.DataFrame'>\n",
      "RangeIndex: 123849 entries, 0 to 123848\n",
      "Data columns (total 28 columns):\n",
      " #   Column                      Non-Null Count   Dtype  \n",
      "---  ------                      --------------   -----  \n",
      " 0   job_id                      123849 non-null  int64  \n",
      " 1   company_name                122130 non-null  object \n",
      " 2   title                       123849 non-null  object \n",
      " 3   description                 123842 non-null  object \n",
      " 4   max_salary                  29793 non-null   float64\n",
      " 5   pay_period                  36073 non-null   object \n",
      " 6   location                    123849 non-null  object \n",
      " 7   company_id                  122132 non-null  float64\n",
      " 8   views                       122160 non-null  float64\n",
      " 9   med_salary                  6280 non-null    float64\n",
      " 10  min_salary                  29793 non-null   float64\n",
      " 11  formatted_work_type         123849 non-null  object \n",
      " 12  applies                     23320 non-null   float64\n",
      " 13  original_listed_time        123849 non-null  float64\n",
      " 14  remote_allowed              15246 non-null   float64\n",
      " 15  job_posting_url             123849 non-null  object \n",
      " 16  application_url             87184 non-null   object \n",
      " 17  application_type            123849 non-null  object \n",
      " 18  expiry                      123849 non-null  float64\n",
      " 19  closed_time                 1073 non-null    float64\n",
      " 20  formatted_experience_level  94440 non-null   object \n",
      " 21  skills_desc                 2439 non-null    object \n",
      " 22  listed_time                 123849 non-null  float64\n",
      " 23  posting_domain              83881 non-null   object \n",
      " 24  sponsored                   123849 non-null  int64  \n",
      " 25  work_type                   123849 non-null  object \n",
      " 26  currency                    36073 non-null   object \n",
      " 27  compensation_type           36073 non-null   object \n",
      "dtypes: float64(11), int64(2), object(15)\n",
      "memory usage: 26.5+ MB\n"
     ]
    }
   ],
   "source": [
    "df_postings_raw.info()"
   ]
  },
  {
   "cell_type": "code",
   "execution_count": 6,
   "metadata": {},
   "outputs": [
    {
     "name": "stdout",
     "output_type": "stream",
     "text": [
      "29793\n"
     ]
    }
   ],
   "source": [
    "#where are the min and max salaries both not NaN?\n",
    "not_na_col1 = df_postings_raw[\"min_salary\"].notna()\n",
    "not_na_col2 = df_postings_raw[\"max_salary\"].notna()\n",
    "\n",
    "both_not_na = not_na_col1 & not_na_col2\n",
    "\n",
    "# Count the number of rows where both columns are not NaN\n",
    "num_rows = both_not_na.sum()\n",
    "print(num_rows)"
   ]
  },
  {
   "cell_type": "markdown",
   "metadata": {},
   "source": [
    "Every instance that has a min salary also has a max salary. What about for the med salary field?"
   ]
  },
  {
   "cell_type": "code",
   "execution_count": 7,
   "metadata": {},
   "outputs": [
    {
     "name": "stdout",
     "output_type": "stream",
     "text": [
      "0\n"
     ]
    }
   ],
   "source": [
    "not_na_col1 = df_postings_raw[\"min_salary\"].notna()\n",
    "not_na_col2 = df_postings_raw[\"med_salary\"].notna()\n",
    "\n",
    "both_not_na = not_na_col1 & not_na_col2\n",
    "\n",
    "# Count the number of rows where both columns are not NaN\n",
    "num_rows = both_not_na.sum()\n",
    "print(num_rows)"
   ]
  },
  {
   "cell_type": "markdown",
   "metadata": {},
   "source": [
    "There are no instance of a job posting having a median salary and a min/max salary. "
   ]
  },
  {
   "cell_type": "code",
   "execution_count": 8,
   "metadata": {},
   "outputs": [],
   "source": [
    "df_postings = df_postings_raw.copy()"
   ]
  },
  {
   "cell_type": "code",
   "execution_count": 9,
   "metadata": {},
   "outputs": [],
   "source": [
    "df_postings.loc[df_postings_raw[\"min_salary\"].notna(), \"med_salary\"] = (df_postings_raw[\"min_salary\"][df_postings_raw[\"min_salary\"].notna()]\n",
    "                                                                         + df_postings_raw[\"max_salary\"][df_postings_raw[\"max_salary\"].notna()])/2\n",
    "#we can drop the max_salary and min_salary columns since we combined them\n",
    "df_postings = df_postings.drop([\"min_salary\", \"max_salary\"], axis=1)"
   ]
  },
  {
   "cell_type": "markdown",
   "metadata": {},
   "source": [
    "We are only interested in job postings that have descriptions, titles, salaries, locations, views, applications, and experience levels. We will remove all other columns"
   ]
  },
  {
   "cell_type": "code",
   "execution_count": 10,
   "metadata": {},
   "outputs": [],
   "source": [
    "useful_fields = [\"med_salary\", \"description\", \"title\", \"job_id\", \"location\", \"applies\", \"views\", \"formatted_experience_level\"]"
   ]
  },
  {
   "cell_type": "code",
   "execution_count": 11,
   "metadata": {},
   "outputs": [],
   "source": [
    "df_postings = df_postings.drop([col for col in df_postings.columns if col not in useful_fields], axis=1)"
   ]
  },
  {
   "cell_type": "code",
   "execution_count": 12,
   "metadata": {},
   "outputs": [],
   "source": [
    "df_postings = df_postings.dropna(axis=0, how='any').reset_index(drop=True)"
   ]
  },
  {
   "cell_type": "code",
   "execution_count": 13,
   "metadata": {},
   "outputs": [
    {
     "name": "stdout",
     "output_type": "stream",
     "text": [
      "<class 'pandas.core.frame.DataFrame'>\n",
      "RangeIndex: 6718 entries, 0 to 6717\n",
      "Data columns (total 8 columns):\n",
      " #   Column                      Non-Null Count  Dtype  \n",
      "---  ------                      --------------  -----  \n",
      " 0   job_id                      6718 non-null   int64  \n",
      " 1   title                       6718 non-null   object \n",
      " 2   description                 6718 non-null   object \n",
      " 3   location                    6718 non-null   object \n",
      " 4   views                       6718 non-null   float64\n",
      " 5   med_salary                  6718 non-null   float64\n",
      " 6   applies                     6718 non-null   float64\n",
      " 7   formatted_experience_level  6718 non-null   object \n",
      "dtypes: float64(3), int64(1), object(4)\n",
      "memory usage: 420.0+ KB\n"
     ]
    }
   ],
   "source": [
    "df_postings.info()"
   ]
  },
  {
   "cell_type": "markdown",
   "metadata": {},
   "source": [
    "# Adding Data to Weaviate Database"
   ]
  },
  {
   "cell_type": "code",
   "execution_count": 14,
   "metadata": {},
   "outputs": [],
   "source": [
    "#connect to weaviate cloud server\n",
    "client = weaviate.connect_to_weaviate_cloud(\n",
    "    cluster_url=secrets[\"WCD_URL\"],\n",
    "    auth_credentials=weaviate.auth.AuthApiKey(secrets[\"WCD_API_KEY\"]),\n",
    "    headers={\"X-Cohere-Api-Key\": secrets[\"COHERE_API_KEY\"]}\n",
    "    #headers={\"X-OpenAI-Api-Key\": secrets[\"OPENAI_API_KEY\"]}\n",
    ")"
   ]
  },
  {
   "cell_type": "code",
   "execution_count": 47,
   "metadata": {},
   "outputs": [],
   "source": [
    "#create the collection\n",
    "postings = client.collections.create(\n",
    "        name=\"Postings\",\n",
    "        vectorizer_config=wvc.config.Configure.Vectorizer.text2vec_cohere(),\n",
    "        generative_config=wvc.config.Configure.Generative.cohere()\n",
    "    )"
   ]
  },
  {
   "cell_type": "code",
   "execution_count": 16,
   "metadata": {},
   "outputs": [
    {
     "name": "stderr",
     "output_type": "stream",
     "text": [
      "c:\\Users\\willp\\Anaconda3\\envs\\weaviate_application\\lib\\site-packages\\weaviate\\warnings.py:260: UserWarning: Bat005: Rate limit reached with error failed with status: 429 error: You are using a Trial key, which is limited to 1000 API calls / month. You can continue to use the Trial key for free or upgrade to a Production key with higher rate limits at 'https://dashboard.cohere.com/api-keys'. Contact us on 'https://discord.gg/XW44jPfYJu' or email us at support@cohere.com with any questions.\n",
      "            Sleeping for 62 seconds.\n",
      "  warnings.warn(\n",
      "c:\\Users\\willp\\Anaconda3\\envs\\weaviate_application\\lib\\site-packages\\weaviate\\warnings.py:260: UserWarning: Bat005: Rate limit reached with error failed with status: 429 error: You are using a Trial key, which is limited to 1000 API calls / month. You can continue to use the Trial key for free or upgrade to a Production key with higher rate limits at 'https://dashboard.cohere.com/api-keys'. Contact us on 'https://discord.gg/XW44jPfYJu' or email us at support@cohere.com with any questions.\n",
      "            Sleeping for 124 seconds.\n",
      "  warnings.warn(\n",
      "c:\\Users\\willp\\Anaconda3\\envs\\weaviate_application\\lib\\site-packages\\weaviate\\warnings.py:260: UserWarning: Bat005: Rate limit reached with error failed with status: 429 error: You are using a Trial key, which is limited to 1000 API calls / month. You can continue to use the Trial key for free or upgrade to a Production key with higher rate limits at 'https://dashboard.cohere.com/api-keys'. Contact us on 'https://discord.gg/XW44jPfYJu' or email us at support@cohere.com with any questions.\n",
      "            Sleeping for 186 seconds.\n",
      "  warnings.warn(\n",
      "c:\\Users\\willp\\Anaconda3\\envs\\weaviate_application\\lib\\site-packages\\weaviate\\warnings.py:260: UserWarning: Bat005: Rate limit reached with error failed with status: 429 error: You are using a Trial key, which is limited to 1000 API calls / month. You can continue to use the Trial key for free or upgrade to a Production key with higher rate limits at 'https://dashboard.cohere.com/api-keys'. Contact us on 'https://discord.gg/XW44jPfYJu' or email us at support@cohere.com with any questions.\n",
      "            Sleeping for 248 seconds.\n",
      "  warnings.warn(\n"
     ]
    }
   ],
   "source": [
    "postings = client.collections.get(\"Postings\")\n",
    "\n",
    "with postings.batch.dynamic() as batch:\n",
    "    for idx, row in df_postings.iterrows(): #iterate over all datapoint\n",
    "        #df_postings.sample(100, replace=False).iterrows(): #iterate over sample of datapoints\n",
    "        #df_postings.iterrows(): #iterate over all datapoint\n",
    "        datapoint = {}\n",
    "        for col in df_postings.columns: #add every column to the database\n",
    "            datapoint[col] = row[col]\n",
    "            batch.add_object(datapoint)"
   ]
  },
  {
   "cell_type": "markdown",
   "metadata": {},
   "source": [
    "How many data points actually ended up in the collection?"
   ]
  },
  {
   "cell_type": "code",
   "execution_count": null,
   "metadata": {},
   "outputs": [
    {
     "name": "stdout",
     "output_type": "stream",
     "text": [
      "There are 2256 data points in the collection.\n"
     ]
    }
   ],
   "source": [
    "postings = client.collections.get(\"Postings\")\n",
    "try:\n",
    "    count = 0\n",
    "    for item in postings.iterator():\n",
    "        count += 1\n",
    "finally:\n",
    "    client.close()\n",
    "print(f\"There are {count} data points in the collection.\")"
   ]
  },
  {
   "cell_type": "markdown",
   "metadata": {},
   "source": [
    "This is all 6718 data points times the 8 fields."
   ]
  },
  {
   "cell_type": "markdown",
   "metadata": {},
   "source": [
    "# Query the Database\n",
    "\n",
    "Now that we have the data in the Weaviate database, we can query it for job postings related to machine learning and AI."
   ]
  },
  {
   "cell_type": "code",
   "execution_count": null,
   "metadata": {},
   "outputs": [],
   "source": [
    "#connect to weaviate cloud server\n",
    "client = weaviate.connect_to_weaviate_cloud(\n",
    "    cluster_url=secrets[\"WCD_URL\"],\n",
    "    auth_credentials=weaviate.auth.AuthApiKey(secrets[\"WCD_API_KEY\"]),\n",
    "    headers={\"X-Cohere-Api-Key\": secrets[\"COHERE_API_KEY\"]}\n",
    "    #headers={\"X-OpenAI-Api-Key\": secrets[\"OPENAI_API_KEY\"]}\n",
    ")\n",
    "\n",
    "try:\n",
    "    postings = client.collections.get(\"Postings\")\n",
    "\n",
    "    ml_responses = postings.query.near_text( #machine learning postings\n",
    "        query=\"machine learning\",\n",
    "        limit=50\n",
    "    )\n",
    "\n",
    "\n",
    "finally:\n",
    "    client.close()"
   ]
  },
  {
   "cell_type": "markdown",
   "metadata": {},
   "source": [
    "How many objects did this return?"
   ]
  },
  {
   "cell_type": "code",
   "execution_count": null,
   "metadata": {},
   "outputs": [
    {
     "data": {
      "text/plain": [
       "50"
      ]
     },
     "execution_count": 20,
     "metadata": {},
     "output_type": "execute_result"
    }
   ],
   "source": [
    "len(ml_responses.objects)"
   ]
  },
  {
   "cell_type": "code",
   "execution_count": null,
   "metadata": {},
   "outputs": [
    {
     "data": {
      "text/plain": [
       "{'description': \"Job Type: Contract\\n\\nWe don’t sponsor work visas as part of this role. \\n\\nAre you interested in helping to train AI models to better understand data?\\n\\nCalling all data analysts, data scientists, and data engineers! Our team is seeking highly experienced SQL experts to be part of the artificial intelligence (AI) revolution.\\n\\nIf you have 2+ years of recent work experience in SQL, this may be the perfect opportunity for you.\\n\\nJoin our team in training AI models to excel at coding generation! We're seeking talented data engineers to work remotely on exciting projects. As part of this opportunity, you'll contribute to training generative artificial intelligence models, helping them become proficient data analysts.\\n\\nResponsibilities\\n\\nWe have partnered with organizations to train AI large language models, helping cutting-edge generative AI models write better SQL code. Projects typically include discrete, highly variable problems that involve engaging with these models as they learn.\\n\\nYour responsibilities might include:\\n\\nSolving complex multi-faceted SQL problems including multiple CTEs, partitioning/window functions, and advanced joinsOptimizing SQL queries to maximize efficiency and readability.Code review SQL queries to ensure accuracy against specific customer requirements.Lead training sessions to build cross team SQL knowledge and share advanced SQL concepts.Assess the SQL level of new team members and identify promising new candidates to join our quickly growing team.Serve as the team Subject Matter Expert on all things SQL.\\n\\nNo previous experience with AI is necessary! You will receive detailed instructions on what is expected of you after you complete the application and verification process.\\n\\nQualifications:\\n\\nRequired qualifications: \\n\\nBachelor's degree in Data Science, Computer Science, or a related field AND 2+ years of experience in a data analysis or data science roleComplete fluency in the English languageAbility to articulate complex scientific concepts in a clear and engaging mannerExcellent attention to detail and ability to maintain consistency in writingSolid understanding of grammar, punctuation, and style guidelinesExpert proficiency in working with SQL 2+ years of recent work experience in SQL with a primary focus on building advanced dashboards\\n\\nWhy work on Outlier?\\n\\nCutting-Edge Projects: Work on challenging projects that push the boundaries of AI coding abilitiesFlexibility: Set your own hours and work remotely from anywhereWeekly payouts: Get paid conveniently on a weekly basisCollaborative environment: Join a team of talented professionals who share your passion for AI and programming\\n\\nPay: $55 per hour\\n\\nPLEASE NOTE : We collect, retain and use personal data for our professional business purposes, including notifying you of job opportunities that may be of interest and sharing with our affiliates. We limit the personal data we collect to that which we believe is appropriate and necessary to manage applicants’ needs, provide our services, and comply with applicable laws. Any information we collect in connection with your application will be treated in accordance with our internal policies and programs designed to protect personal data.\",\n",
       " 'views': None,\n",
       " 'med_salary': None,\n",
       " 'formatted_experience_level': None,\n",
       " 'title': 'Senior Data Analyst - AI Training (Remote, Contract)',\n",
       " 'applies': None,\n",
       " 'location': None,\n",
       " 'job_id': 3884434978.0}"
      ]
     },
     "execution_count": 21,
     "metadata": {},
     "output_type": "execute_result"
    }
   ],
   "source": [
    "ml_responses.objects[0].properties"
   ]
  },
  {
   "cell_type": "code",
   "execution_count": null,
   "metadata": {},
   "outputs": [],
   "source": [
    "ml_df = pd.DataFrame()\n",
    "for col in df_postings.columns:\n",
    "    ml_df[col] = pd.Series([post.properties[col] for post in ml_responses.objects])"
   ]
  },
  {
   "cell_type": "code",
   "execution_count": 22,
   "metadata": {},
   "outputs": [
    {
     "ename": "KeyError",
     "evalue": "None",
     "output_type": "error",
     "traceback": [
      "\u001b[1;31m---------------------------------------------------------------------------\u001b[0m",
      "\u001b[1;31mKeyError\u001b[0m                                  Traceback (most recent call last)",
      "Cell \u001b[1;32mIn[22], line 11\u001b[0m\n\u001b[0;32m      5\u001b[0m \u001b[38;5;66;03m#encode categorical\u001b[39;00m\n\u001b[0;32m      6\u001b[0m experience_labels \u001b[38;5;241m=\u001b[39m{\n\u001b[0;32m      7\u001b[0m     \u001b[38;5;124m\"\u001b[39m\u001b[38;5;124mInternship\u001b[39m\u001b[38;5;124m\"\u001b[39m: \u001b[38;5;241m0\u001b[39m,\n\u001b[0;32m      8\u001b[0m     \u001b[38;5;124m\"\u001b[39m\u001b[38;5;124mEntry level\u001b[39m\u001b[38;5;124m\"\u001b[39m: \u001b[38;5;241m1\u001b[39m,\n\u001b[0;32m      9\u001b[0m     \u001b[38;5;124m\"\u001b[39m\u001b[38;5;124mMid-Senior level\u001b[39m\u001b[38;5;124m\"\u001b[39m: \u001b[38;5;241m2\u001b[39m\n\u001b[0;32m     10\u001b[0m }\n\u001b[1;32m---> 11\u001b[0m ml_df[\u001b[38;5;124m\"\u001b[39m\u001b[38;5;124mexperience_level_encoded\u001b[39m\u001b[38;5;124m\"\u001b[39m] \u001b[38;5;241m=\u001b[39m [experience_labels[entry] \u001b[38;5;28;01mfor\u001b[39;00m entry \u001b[38;5;129;01min\u001b[39;00m ml_df[\u001b[38;5;124m\"\u001b[39m\u001b[38;5;124mformatted_experience_level\u001b[39m\u001b[38;5;124m\"\u001b[39m]]\n",
      "Cell \u001b[1;32mIn[22], line 11\u001b[0m, in \u001b[0;36m<listcomp>\u001b[1;34m(.0)\u001b[0m\n\u001b[0;32m      5\u001b[0m \u001b[38;5;66;03m#encode categorical\u001b[39;00m\n\u001b[0;32m      6\u001b[0m experience_labels \u001b[38;5;241m=\u001b[39m{\n\u001b[0;32m      7\u001b[0m     \u001b[38;5;124m\"\u001b[39m\u001b[38;5;124mInternship\u001b[39m\u001b[38;5;124m\"\u001b[39m: \u001b[38;5;241m0\u001b[39m,\n\u001b[0;32m      8\u001b[0m     \u001b[38;5;124m\"\u001b[39m\u001b[38;5;124mEntry level\u001b[39m\u001b[38;5;124m\"\u001b[39m: \u001b[38;5;241m1\u001b[39m,\n\u001b[0;32m      9\u001b[0m     \u001b[38;5;124m\"\u001b[39m\u001b[38;5;124mMid-Senior level\u001b[39m\u001b[38;5;124m\"\u001b[39m: \u001b[38;5;241m2\u001b[39m\n\u001b[0;32m     10\u001b[0m }\n\u001b[1;32m---> 11\u001b[0m ml_df[\u001b[38;5;124m\"\u001b[39m\u001b[38;5;124mexperience_level_encoded\u001b[39m\u001b[38;5;124m\"\u001b[39m] \u001b[38;5;241m=\u001b[39m [\u001b[43mexperience_labels\u001b[49m\u001b[43m[\u001b[49m\u001b[43mentry\u001b[49m\u001b[43m]\u001b[49m \u001b[38;5;28;01mfor\u001b[39;00m entry \u001b[38;5;129;01min\u001b[39;00m ml_df[\u001b[38;5;124m\"\u001b[39m\u001b[38;5;124mformatted_experience_level\u001b[39m\u001b[38;5;124m\"\u001b[39m]]\n",
      "\u001b[1;31mKeyError\u001b[0m: None"
     ]
    }
   ],
   "source": [
    "#encode categorical\n",
    "experience_labels ={\n",
    "    \"Internship\": 0,\n",
    "    \"Entry level\": 1,\n",
    "    \"Mid-Senior level\": 2\n",
    "}\n",
    "ml_df[\"experience_level_encoded\"] = [experience_labels[entry] for entry in ml_df[\"formatted_experience_level\"]]"
   ]
  },
  {
   "cell_type": "code",
   "execution_count": 99,
   "metadata": {},
   "outputs": [
    {
     "data": {
      "text/html": [
       "<div>\n",
       "<style scoped>\n",
       "    .dataframe tbody tr th:only-of-type {\n",
       "        vertical-align: middle;\n",
       "    }\n",
       "\n",
       "    .dataframe tbody tr th {\n",
       "        vertical-align: top;\n",
       "    }\n",
       "\n",
       "    .dataframe thead th {\n",
       "        text-align: right;\n",
       "    }\n",
       "</style>\n",
       "<table border=\"1\" class=\"dataframe\">\n",
       "  <thead>\n",
       "    <tr style=\"text-align: right;\">\n",
       "      <th></th>\n",
       "      <th>job_id</th>\n",
       "      <th>title</th>\n",
       "      <th>description</th>\n",
       "      <th>location</th>\n",
       "      <th>views</th>\n",
       "      <th>med_salary</th>\n",
       "      <th>applies</th>\n",
       "      <th>formatted_experience_level</th>\n",
       "      <th>experience_level_encoded</th>\n",
       "    </tr>\n",
       "  </thead>\n",
       "  <tbody>\n",
       "    <tr>\n",
       "      <th>0</th>\n",
       "      <td>3.904952e+09</td>\n",
       "      <td>Senior Software Engineer</td>\n",
       "      <td>Dice is the leading career destination for tec...</td>\n",
       "      <td>Austin, TX</td>\n",
       "      <td>17.0</td>\n",
       "      <td>121300.000</td>\n",
       "      <td>2.0</td>\n",
       "      <td>Mid-Senior level</td>\n",
       "      <td>2</td>\n",
       "    </tr>\n",
       "    <tr>\n",
       "      <th>1</th>\n",
       "      <td>3.895537e+09</td>\n",
       "      <td>Software Engineer, Core Data Services</td>\n",
       "      <td>About The Company\\n\\nQumulo is the unstructure...</td>\n",
       "      <td>Seattle, WA</td>\n",
       "      <td>17.0</td>\n",
       "      <td>165000.000</td>\n",
       "      <td>2.0</td>\n",
       "      <td>Entry level</td>\n",
       "      <td>1</td>\n",
       "    </tr>\n",
       "    <tr>\n",
       "      <th>2</th>\n",
       "      <td>3.903447e+09</td>\n",
       "      <td>Data Consultant - No experience required, sala...</td>\n",
       "      <td>Are you a graduate or junior professional look...</td>\n",
       "      <td>Connecticut, United States</td>\n",
       "      <td>75.0</td>\n",
       "      <td>68500.000</td>\n",
       "      <td>22.0</td>\n",
       "      <td>Entry level</td>\n",
       "      <td>1</td>\n",
       "    </tr>\n",
       "    <tr>\n",
       "      <th>3</th>\n",
       "      <td>3.904948e+09</td>\n",
       "      <td>Azure Lead Administrator</td>\n",
       "      <td>Dice is the leading career destination for tec...</td>\n",
       "      <td>United States</td>\n",
       "      <td>43.0</td>\n",
       "      <td>64.625</td>\n",
       "      <td>12.0</td>\n",
       "      <td>Entry level</td>\n",
       "      <td>1</td>\n",
       "    </tr>\n",
       "    <tr>\n",
       "      <th>4</th>\n",
       "      <td>3.900954e+09</td>\n",
       "      <td>Senior Data Intelligence Engineer</td>\n",
       "      <td>About The Opportunity\\n\\nThe Core Data Group i...</td>\n",
       "      <td>Denver, CO</td>\n",
       "      <td>63.0</td>\n",
       "      <td>160000.000</td>\n",
       "      <td>20.0</td>\n",
       "      <td>Mid-Senior level</td>\n",
       "      <td>2</td>\n",
       "    </tr>\n",
       "  </tbody>\n",
       "</table>\n",
       "</div>"
      ],
      "text/plain": [
       "         job_id                                              title  \\\n",
       "0  3.904952e+09                           Senior Software Engineer   \n",
       "1  3.895537e+09              Software Engineer, Core Data Services   \n",
       "2  3.903447e+09  Data Consultant - No experience required, sala...   \n",
       "3  3.904948e+09                           Azure Lead Administrator   \n",
       "4  3.900954e+09                  Senior Data Intelligence Engineer   \n",
       "\n",
       "                                         description  \\\n",
       "0  Dice is the leading career destination for tec...   \n",
       "1  About The Company\\n\\nQumulo is the unstructure...   \n",
       "2  Are you a graduate or junior professional look...   \n",
       "3  Dice is the leading career destination for tec...   \n",
       "4  About The Opportunity\\n\\nThe Core Data Group i...   \n",
       "\n",
       "                     location  views  med_salary  applies  \\\n",
       "0                  Austin, TX   17.0  121300.000      2.0   \n",
       "1                 Seattle, WA   17.0  165000.000      2.0   \n",
       "2  Connecticut, United States   75.0   68500.000     22.0   \n",
       "3               United States   43.0      64.625     12.0   \n",
       "4                  Denver, CO   63.0  160000.000     20.0   \n",
       "\n",
       "  formatted_experience_level  experience_level_encoded  \n",
       "0           Mid-Senior level                         2  \n",
       "1                Entry level                         1  \n",
       "2                Entry level                         1  \n",
       "3                Entry level                         1  \n",
       "4           Mid-Senior level                         2  "
      ]
     },
     "execution_count": 99,
     "metadata": {},
     "output_type": "execute_result"
    }
   ],
   "source": [
    "ml_df.head()"
   ]
  },
  {
   "cell_type": "code",
   "execution_count": 100,
   "metadata": {},
   "outputs": [
    {
     "data": {
      "text/html": [
       "<div>\n",
       "<style scoped>\n",
       "    .dataframe tbody tr th:only-of-type {\n",
       "        vertical-align: middle;\n",
       "    }\n",
       "\n",
       "    .dataframe tbody tr th {\n",
       "        vertical-align: top;\n",
       "    }\n",
       "\n",
       "    .dataframe thead th {\n",
       "        text-align: right;\n",
       "    }\n",
       "</style>\n",
       "<table border=\"1\" class=\"dataframe\">\n",
       "  <thead>\n",
       "    <tr style=\"text-align: right;\">\n",
       "      <th></th>\n",
       "      <th>applies</th>\n",
       "      <th>views</th>\n",
       "      <th>med_salary</th>\n",
       "      <th>experience_level_encoded</th>\n",
       "    </tr>\n",
       "  </thead>\n",
       "  <tbody>\n",
       "    <tr>\n",
       "      <th>applies</th>\n",
       "      <td>1.000000</td>\n",
       "      <td>0.992414</td>\n",
       "      <td>-0.311217</td>\n",
       "      <td>0.376467</td>\n",
       "    </tr>\n",
       "    <tr>\n",
       "      <th>views</th>\n",
       "      <td>0.992414</td>\n",
       "      <td>1.000000</td>\n",
       "      <td>-0.290203</td>\n",
       "      <td>0.362377</td>\n",
       "    </tr>\n",
       "    <tr>\n",
       "      <th>med_salary</th>\n",
       "      <td>-0.311217</td>\n",
       "      <td>-0.290203</td>\n",
       "      <td>1.000000</td>\n",
       "      <td>0.538681</td>\n",
       "    </tr>\n",
       "    <tr>\n",
       "      <th>experience_level_encoded</th>\n",
       "      <td>0.376467</td>\n",
       "      <td>0.362377</td>\n",
       "      <td>0.538681</td>\n",
       "      <td>1.000000</td>\n",
       "    </tr>\n",
       "  </tbody>\n",
       "</table>\n",
       "</div>"
      ],
      "text/plain": [
       "                           applies     views  med_salary  \\\n",
       "applies                   1.000000  0.992414   -0.311217   \n",
       "views                     0.992414  1.000000   -0.290203   \n",
       "med_salary               -0.311217 -0.290203    1.000000   \n",
       "experience_level_encoded  0.376467  0.362377    0.538681   \n",
       "\n",
       "                          experience_level_encoded  \n",
       "applies                                   0.376467  \n",
       "views                                     0.362377  \n",
       "med_salary                                0.538681  \n",
       "experience_level_encoded                  1.000000  "
      ]
     },
     "execution_count": 100,
     "metadata": {},
     "output_type": "execute_result"
    }
   ],
   "source": [
    "ml_df[[\"applies\", \"views\", \"med_salary\", \"experience_level_encoded\"]].corr(numeric_only=True)"
   ]
  },
  {
   "cell_type": "markdown",
   "metadata": {},
   "source": [
    "The numbers of views and applications are very strongly correlated. Let's plot the relation."
   ]
  },
  {
   "cell_type": "code",
   "execution_count": 101,
   "metadata": {},
   "outputs": [
    {
     "data": {
      "image/png": "[encoded data removed]",
      "text/plain": [
       "<Figure size 640x480 with 1 Axes>"
      ]
     },
     "metadata": {},
     "output_type": "display_data"
    }
   ],
   "source": [
    "plt.figure()\n",
    "\n",
    "views = ml_df['views'].to_numpy()\n",
    "applies = ml_df['applies'].to_numpy()\n",
    "\n",
    "plt.scatter(views, applies)\n",
    "\n",
    "regression_results = linregress(views, applies) #linear regression between views and applications\n",
    "\n",
    "#plot the line of best fit\n",
    "x_plot = np.array([0, np.max(views)])\n",
    "y_plot = regression_results.slope*x_plot + regression_results.intercept\n",
    "plt.plot(x_plot, y_plot, marker='', ls='-', color='r')\n",
    "\n",
    "#plot area of error\n",
    "y_upper = (regression_results.slope + regression_results.stderr)*x_plot + regression_results.intercept + regression_results.intercept_stderr\n",
    "y_lower = (regression_results.slope - regression_results.stderr)*x_plot + regression_results.intercept - regression_results.intercept_stderr\n",
    "plt.fill_between(x_plot, y_lower, y_upper, color='r', alpha=0.2)\n",
    "\n",
    "\n",
    "plt.xlabel(\"Views\")\n",
    "plt.ylabel(\"Applications\")\n",
    "plt.title(\"Machine Learning Job Postings Views vs. Applications\")\n",
    "plt.tight_layout()\n",
    "plt.show()"
   ]
  },
  {
   "cell_type": "code",
   "execution_count": 102,
   "metadata": {},
   "outputs": [
    {
     "data": {
      "image/png": "[encoded data removed]",
      "text/plain": [
       "<Figure size 640x480 with 1 Axes>"
      ]
     },
     "metadata": {},
     "output_type": "display_data"
    }
   ],
   "source": [
    "ml_df.formatted_experience_level.value_counts()[[\"Internship\", \"Entry level\", \"Mid-Senior level\"]].plot(kind='bar', \n",
    "                                                                                                        xlabel=\"\", \n",
    "                                                                                                        ylabel=\"Count\",\n",
    "                                                                                                        title=\"Amount of ML Job Postings by Experience LeveL\")\n",
    "plt.xticks(rotation=30)\n",
    "plt.show()"
   ]
  },
  {
   "cell_type": "code",
   "execution_count": 114,
   "metadata": {},
   "outputs": [
    {
     "data": {
      "text/plain": [
       "<Figure size 640x480 with 0 Axes>"
      ]
     },
     "metadata": {},
     "output_type": "display_data"
    },
    {
     "data": {
      "image/png": "[encoded data removed]",
      "text/plain": [
       "<Figure size 640x480 with 2 Axes>"
      ]
     },
     "metadata": {},
     "output_type": "display_data"
    }
   ],
   "source": [
    "plt.figure()\n",
    "\n",
    "ax = ml_df.plot.scatter(\"med_salary\", \"applies\", c=\"experience_level_encoded\",\n",
    "                   colormap='viridis')\n",
    "f = plt.gcf()\n",
    "ax = f.get_axes()[1]\n",
    "ax.set_ylabel(\"Experience Level\"\n",
    "              )\n",
    "plt.xlabel(\"Salary\")\n",
    "plt.ylabel(\"Applications\")\n",
    "plt.title(\"Salaries and Applications by Experience Level\")\n",
    "plt.show()"
   ]
  },
  {
   "cell_type": "code",
   "execution_count": null,
   "metadata": {},
   "outputs": [],
   "source": [
    "ml_df.formatted_experience_level.value_counts()[[\"Internship\", \"Entry level\", \"Mid-Senior level\"]].plot(kind='bar', \n",
    "                                                                                                        xlabel=\"\", \n",
    "                                                                                                        ylabel=\"Count\",\n",
    "                                                                                                        title=\"Amount of ML Job Postings by Experience LeveL\")\n",
    "plt.xticks(rotation=30)\n",
    "plt.show()"
   ]
  },
  {
   "cell_type": "code",
   "execution_count": 30,
   "metadata": {},
   "outputs": [
    {
     "data": {
      "text/plain": [
       "{'description': \"Dice is the leading career destination for tech experts at every stage of their careers. Our client, General Motors, is seeking the following. Apply via Dice today!\\n\\nDescription\\n\\n Job description summary: \\n\\nAs a member of the Plant Floor Execution and Quality Management IT organization, you will be responsible for leading teams that develop and deliver the software that powers GM Manufacturing. You will work with hands-on writing software or solutions based on detailed requirements and system specifications. You will work closely with products, business partners, operations, and analytics teams to understand how value can be delivered to the customers and operators using our software. We're looking for talented, motivated, and detail-oriented technologists with a passion for building robust systems at scale. Proficiency in front end and backend development strategies as well as automation.\\n\\n Full lifecycle application development using standard design patterns/frameworks  Must have experience as part of a software project delivery effort  Fluent within several programming languages, tools and/or technologies  Design, develop, and deliver scalable microservices and elegant front ends  Automates unit/end-to-end testing of software systems within their domain, focused on software quality and maintainability  Provides guidance and mentoring of fellow software developers and other team members  Knowledge of Software testing, quality assurance and solutions testing including automation  Automates testing processes by developing unit test scripts as needed  Engage in the identification & remediation of software issues related to code or solutions quality, security, and/or pattern/frameworks and software usability or end user related issues  Must be experienced with performance Optimization, Test Driven Development, Enterprise software integration patterns and methods, Performance tuning & usability, assessment/improvement \\n\\n Requirements: \\n\\n Minimum 8 years of professional full stack software development experience  Excellent technical (hands-on) knowledge of C#, Java, SQL  Excellent technical (hands-on) knowledge of UI Frameworks (Angular, React)  Systems knowledge, hands-on experience with inter-process communication  You are upbeat, adaptable, and results oriented with a positive attitude  Excellent communication and collaborative skills  Fantastic attention to detail  4+ years using Micro services and Continuous Integration and Continuous Delivery (CI/CD) using Public or On-Prem cloud \\n\\nAdditional Description\\n\\n Preferred Qualifications: \\n\\n .Net 6, C#, Java, Spring Boot  Kubernetes/Cloud, Docker, Micro services  SQL, Messaging (Kafka, RabbitMQ, MQSeries), Maven, Postgres  Azure Dev Ops or any other Dev Ops platform  TypeScript/JavaScript/HTML/CSS  React/Angular/Vue, Jest/Cypress/Jasmine \\n\\n Hybrid:  This role is categorized as hybrid. This means the successful candidate is expected to report onsite at the Austin IT Innovation Center North - Austin IT Innovation Center North three times per week, at minimum or other frequency dictated by the business.\\n\\n Compensation: The expected base compensation for this role is : $93,400 - $149,200 . Actual base compensation within the identified range will vary based on factors relevant to the position.  Bonus Potential: An incentive pay program offers payouts based on company performance, job level, and individual performance.  Benefits: GM offers a variety of health and wellbeing benefit programs. Benefit options include medical, dental, vision, Health Savings Account, Flexible Spending Accounts, retirement savings plan, sickness and accident benefits, life insurance, paid vacation & holidays. \\n\\nAbout GM\\n\\nOur vision is a world with Zero Crashes, Zero Emissions and Zero Congestion and we embrace the responsibility to lead the change that will make our world better, safer and more equitable for all.\\n\\nWhy Join Us\\n\\nWe aspire to be the most inclusive company in the world. We believe we all must make a choice every day - individually and collectively - to drive meaningful change through our words, our deeds and our culture. Every day, we want every employee, no matter their background, ethnicity, preferences, or location, to feel they belong to one General Motors team.\\n\\nTotal Rewards | Benefits Overview\\n\\nFrom day one, we're looking out for your well-being-at work and at home-so you can focus on realizing your ambitions. Learn how GM supports a rewarding career that rewards you personally by visiting Total Rewards resources.\\n\\nDiversity Information\\n\\nGeneral Motors is committed to being a workplace that is not only free of unlawful discrimination, but one that genuinely fosters inclusion and belonging. We strongly believe that workforce diversity creates an environment in which our employees can thrive and develop better products for our customers. We encourage interested candidates to review the key responsibilities and qualifications for each role and apply for any positions that match their skills and capabilities. Applicants in the recruitment process may be required, where applicable, to successfully complete a role-related assessment(s) and/or a pre-employment screening prior to beginning employment. To learn more, visit How we Hire\\n\\nEqual Employment Opportunity Statement (U.S.)\\n\\nGeneral Motors is proud to be an equal opportunity employer. All qualified applicants will receive consideration for employment without regard to race, color, religion, sex, sexual orientation, gender identity, national origin, disability, or status as a protected veteran.\\n\\nAccommodations (U.S. and Canada)\\n\\nGeneral Motors offers opportunities to all job seekers including individuals with disabilities. If you need a reasonable accommodation to assist with your job search or application for employment, email us or call us at . In your email, please include a description of the specific accommodation you are requesting as well as the job title and requisition number of the position for which you are applying. Senior Software Engineer\",\n",
       " 'views': 17.0,\n",
       " 'med_salary': 121300.0,\n",
       " 'formatted_experience_level': 'Mid-Senior level',\n",
       " 'title': 'Senior Software Engineer',\n",
       " 'applies': 2.0,\n",
       " 'location': 'Austin, TX',\n",
       " 'job_id': 3904952090.0}"
      ]
     },
     "execution_count": 30,
     "metadata": {},
     "output_type": "execute_result"
    }
   ],
   "source": [
    "ml_responses.objects[0].properties"
   ]
  }
 ],
 "metadata": {
  "kernelspec": {
   "display_name": "base",
   "language": "python",
   "name": "python3"
  },
  "language_info": {
   "codemirror_mode": {
    "name": "ipython",
    "version": 3
   },
   "file_extension": ".py",
   "mimetype": "text/x-python",
   "name": "python",
   "nbconvert_exporter": "python",
   "pygments_lexer": "ipython3",
   "version": "3.8.19"
  }
 },
 "nbformat": 4,
 "nbformat_minor": 2
}
