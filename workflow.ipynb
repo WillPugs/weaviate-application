{
 "cells": [
  {
   "cell_type": "markdown",
   "metadata": {},
   "source": [
    "# Weaviate Challenge Solution\n",
    "## William Pugsley\n",
    "\n",
    "We will explore the [LinkedIn job postings (2023-2024) dataset](https://www.kaggle.com/datasets/arshkon/linkedin-job-postings/) from Kaggle. The purpose of this project is to cluster job postings in the machine learning field. We will engineer useful data fields, add them to a Weaviate collection using Cohere embedding, and extract the job postings related to machine learning using semantic search.\n",
    "\n",
    "Requires the postings.csv file from Kaggle to be in the directory."
   ]
  },
  {
   "cell_type": "code",
   "execution_count": 1,
   "metadata": {},
   "outputs": [],
   "source": [
    "import numpy as np\n",
    "import pandas as pd\n",
    "import matplotlib.pyplot as plt\n",
    "import seaborn as sns\n",
    "import json\n",
    "import requests\n",
    "import os\n",
    "import weaviate\n",
    "import weaviate.classes as wvc\n",
    "from scipy.stats import linregress\n",
    "from sklearn.preprocessing import LabelEncoder"
   ]
  },
  {
   "cell_type": "code",
   "execution_count": 2,
   "metadata": {},
   "outputs": [],
   "source": [
    "plt.rcParams['font.size'] = 16 #make the font size of plots larger"
   ]
  },
  {
   "cell_type": "markdown",
   "metadata": {},
   "source": [
    "# Preliminaries"
   ]
  },
  {
   "cell_type": "code",
   "execution_count": 3,
   "metadata": {},
   "outputs": [],
   "source": [
    "#reads a file that holds all the API keys and URLs\n",
    "\n",
    "# open the file in read mode\n",
    "with open(\"secrets.txt\", 'r') as file:\n",
    "    # read lines from the file\n",
    "    lines = file.readlines()\n",
    "\n",
    "secrets = {} #private dictionary for API keys\n",
    "\n",
    "# iterate through each line and split key-value pairs\n",
    "for line in lines:\n",
    "    key, value = line.strip().split(',')\n",
    "    secrets[key.strip()] = value.strip()"
   ]
  },
  {
   "cell_type": "markdown",
   "metadata": {},
   "source": [
    "# Data Exploration\n",
    "\n",
    "We will start by exploring the dataset, extracting the relevant instances, and engineering new fields."
   ]
  },
  {
   "cell_type": "code",
   "execution_count": 4,
   "metadata": {},
   "outputs": [],
   "source": [
    "df_postings_raw = pd.read_csv(\"postings.csv\") #load data"
   ]
  },
  {
   "cell_type": "code",
   "execution_count": 5,
   "metadata": {},
   "outputs": [
    {
     "data": {
      "text/html": [
       "<div>\n",
       "<style scoped>\n",
       "    .dataframe tbody tr th:only-of-type {\n",
       "        vertical-align: middle;\n",
       "    }\n",
       "\n",
       "    .dataframe tbody tr th {\n",
       "        vertical-align: top;\n",
       "    }\n",
       "\n",
       "    .dataframe thead th {\n",
       "        text-align: right;\n",
       "    }\n",
       "</style>\n",
       "<table border=\"1\" class=\"dataframe\">\n",
       "  <thead>\n",
       "    <tr style=\"text-align: right;\">\n",
       "      <th></th>\n",
       "      <th>job_id</th>\n",
       "      <th>company_name</th>\n",
       "      <th>title</th>\n",
       "      <th>description</th>\n",
       "      <th>max_salary</th>\n",
       "      <th>pay_period</th>\n",
       "      <th>location</th>\n",
       "      <th>company_id</th>\n",
       "      <th>views</th>\n",
       "      <th>med_salary</th>\n",
       "      <th>...</th>\n",
       "      <th>expiry</th>\n",
       "      <th>closed_time</th>\n",
       "      <th>formatted_experience_level</th>\n",
       "      <th>skills_desc</th>\n",
       "      <th>listed_time</th>\n",
       "      <th>posting_domain</th>\n",
       "      <th>sponsored</th>\n",
       "      <th>work_type</th>\n",
       "      <th>currency</th>\n",
       "      <th>compensation_type</th>\n",
       "    </tr>\n",
       "  </thead>\n",
       "  <tbody>\n",
       "    <tr>\n",
       "      <th>0</th>\n",
       "      <td>921716</td>\n",
       "      <td>Corcoran Sawyer Smith</td>\n",
       "      <td>Marketing Coordinator</td>\n",
       "      <td>Job descriptionA leading real estate firm in N...</td>\n",
       "      <td>20.0</td>\n",
       "      <td>HOURLY</td>\n",
       "      <td>Princeton, NJ</td>\n",
       "      <td>2774458.0</td>\n",
       "      <td>20.0</td>\n",
       "      <td>NaN</td>\n",
       "      <td>...</td>\n",
       "      <td>1.715990e+12</td>\n",
       "      <td>NaN</td>\n",
       "      <td>NaN</td>\n",
       "      <td>Requirements: \\n\\nWe are seeking a College or ...</td>\n",
       "      <td>1.713398e+12</td>\n",
       "      <td>NaN</td>\n",
       "      <td>0</td>\n",
       "      <td>FULL_TIME</td>\n",
       "      <td>USD</td>\n",
       "      <td>BASE_SALARY</td>\n",
       "    </tr>\n",
       "    <tr>\n",
       "      <th>1</th>\n",
       "      <td>1829192</td>\n",
       "      <td>NaN</td>\n",
       "      <td>Mental Health Therapist/Counselor</td>\n",
       "      <td>At Aspen Therapy and Wellness , we are committ...</td>\n",
       "      <td>50.0</td>\n",
       "      <td>HOURLY</td>\n",
       "      <td>Fort Collins, CO</td>\n",
       "      <td>NaN</td>\n",
       "      <td>1.0</td>\n",
       "      <td>NaN</td>\n",
       "      <td>...</td>\n",
       "      <td>1.715450e+12</td>\n",
       "      <td>NaN</td>\n",
       "      <td>NaN</td>\n",
       "      <td>NaN</td>\n",
       "      <td>1.712858e+12</td>\n",
       "      <td>NaN</td>\n",
       "      <td>0</td>\n",
       "      <td>FULL_TIME</td>\n",
       "      <td>USD</td>\n",
       "      <td>BASE_SALARY</td>\n",
       "    </tr>\n",
       "  </tbody>\n",
       "</table>\n",
       "<p>2 rows × 28 columns</p>\n",
       "</div>"
      ],
      "text/plain": [
       "    job_id           company_name                              title  \\\n",
       "0   921716  Corcoran Sawyer Smith              Marketing Coordinator   \n",
       "1  1829192                    NaN  Mental Health Therapist/Counselor   \n",
       "\n",
       "                                         description  max_salary pay_period  \\\n",
       "0  Job descriptionA leading real estate firm in N...        20.0     HOURLY   \n",
       "1  At Aspen Therapy and Wellness , we are committ...        50.0     HOURLY   \n",
       "\n",
       "           location  company_id  views  med_salary  ...        expiry  \\\n",
       "0     Princeton, NJ   2774458.0   20.0         NaN  ...  1.715990e+12   \n",
       "1  Fort Collins, CO         NaN    1.0         NaN  ...  1.715450e+12   \n",
       "\n",
       "  closed_time  formatted_experience_level  \\\n",
       "0         NaN                         NaN   \n",
       "1         NaN                         NaN   \n",
       "\n",
       "                                         skills_desc   listed_time  \\\n",
       "0  Requirements: \\n\\nWe are seeking a College or ...  1.713398e+12   \n",
       "1                                                NaN  1.712858e+12   \n",
       "\n",
       "  posting_domain sponsored  work_type  currency  compensation_type  \n",
       "0            NaN         0  FULL_TIME       USD        BASE_SALARY  \n",
       "1            NaN         0  FULL_TIME       USD        BASE_SALARY  \n",
       "\n",
       "[2 rows x 28 columns]"
      ]
     },
     "execution_count": 5,
     "metadata": {},
     "output_type": "execute_result"
    }
   ],
   "source": [
    "df_postings_raw.head(2) #preview data"
   ]
  },
  {
   "cell_type": "markdown",
   "metadata": {},
   "source": [
    "A lot of values are NaN. We will need to drop these points or fill in the blanks."
   ]
  },
  {
   "cell_type": "code",
   "execution_count": 6,
   "metadata": {},
   "outputs": [
    {
     "name": "stdout",
     "output_type": "stream",
     "text": [
      "<class 'pandas.core.frame.DataFrame'>\n",
      "RangeIndex: 123849 entries, 0 to 123848\n",
      "Data columns (total 28 columns):\n",
      " #   Column                      Non-Null Count   Dtype  \n",
      "---  ------                      --------------   -----  \n",
      " 0   job_id                      123849 non-null  int64  \n",
      " 1   company_name                122130 non-null  object \n",
      " 2   title                       123849 non-null  object \n",
      " 3   description                 123842 non-null  object \n",
      " 4   max_salary                  29793 non-null   float64\n",
      " 5   pay_period                  36073 non-null   object \n",
      " 6   location                    123849 non-null  object \n",
      " 7   company_id                  122132 non-null  float64\n",
      " 8   views                       122160 non-null  float64\n",
      " 9   med_salary                  6280 non-null    float64\n",
      " 10  min_salary                  29793 non-null   float64\n",
      " 11  formatted_work_type         123849 non-null  object \n",
      " 12  applies                     23320 non-null   float64\n",
      " 13  original_listed_time        123849 non-null  float64\n",
      " 14  remote_allowed              15246 non-null   float64\n",
      " 15  job_posting_url             123849 non-null  object \n",
      " 16  application_url             87184 non-null   object \n",
      " 17  application_type            123849 non-null  object \n",
      " 18  expiry                      123849 non-null  float64\n",
      " 19  closed_time                 1073 non-null    float64\n",
      " 20  formatted_experience_level  94440 non-null   object \n",
      " 21  skills_desc                 2439 non-null    object \n",
      " 22  listed_time                 123849 non-null  float64\n",
      " 23  posting_domain              83881 non-null   object \n",
      " 24  sponsored                   123849 non-null  int64  \n",
      " 25  work_type                   123849 non-null  object \n",
      " 26  currency                    36073 non-null   object \n",
      " 27  compensation_type           36073 non-null   object \n",
      "dtypes: float64(11), int64(2), object(15)\n",
      "memory usage: 26.5+ MB\n"
     ]
    }
   ],
   "source": [
    "df_postings_raw.info() "
   ]
  },
  {
   "cell_type": "code",
   "execution_count": 7,
   "metadata": {},
   "outputs": [
    {
     "name": "stdout",
     "output_type": "stream",
     "text": [
      "29793\n"
     ]
    }
   ],
   "source": [
    "#where are the min and max salaries both not NaN?\n",
    "not_na_col1 = df_postings_raw[\"min_salary\"].notna()\n",
    "not_na_col2 = df_postings_raw[\"max_salary\"].notna()\n",
    "\n",
    "both_not_na = not_na_col1 & not_na_col2\n",
    "\n",
    "# Count the number of rows where both columns are not NaN\n",
    "num_rows = both_not_na.sum()\n",
    "print(num_rows)"
   ]
  },
  {
   "cell_type": "markdown",
   "metadata": {},
   "source": [
    "Every instance that has a min salary also has a max salary. What about for the med salary field?"
   ]
  },
  {
   "cell_type": "code",
   "execution_count": 8,
   "metadata": {},
   "outputs": [
    {
     "name": "stdout",
     "output_type": "stream",
     "text": [
      "0\n"
     ]
    }
   ],
   "source": [
    "not_na_col1 = df_postings_raw[\"min_salary\"].notna()\n",
    "not_na_col2 = df_postings_raw[\"med_salary\"].notna()\n",
    "\n",
    "both_not_na = not_na_col1 & not_na_col2\n",
    "\n",
    "# Count the number of rows where both columns are not NaN\n",
    "num_rows = both_not_na.sum()\n",
    "print(num_rows)"
   ]
  },
  {
   "cell_type": "markdown",
   "metadata": {},
   "source": [
    "There are no instance of a job posting having a median salary and a min/max salary. "
   ]
  },
  {
   "cell_type": "code",
   "execution_count": 9,
   "metadata": {},
   "outputs": [],
   "source": [
    "df_postings = df_postings_raw.copy()"
   ]
  },
  {
   "cell_type": "code",
   "execution_count": 10,
   "metadata": {},
   "outputs": [],
   "source": [
    "df_postings.loc[df_postings_raw[\"min_salary\"].notna(), \"med_salary\"] = (df_postings_raw[\"min_salary\"][df_postings_raw[\"min_salary\"].notna()]\n",
    "                                                                         + df_postings_raw[\"max_salary\"][df_postings_raw[\"max_salary\"].notna()])/2\n",
    "#we can drop the max_salary and min_salary columns since we combined them\n",
    "df_postings = df_postings.drop([\"min_salary\", \"max_salary\"], axis=1)"
   ]
  },
  {
   "cell_type": "markdown",
   "metadata": {},
   "source": [
    "Every posting with a salary has a pay period field. We will convert all salaries to yearly salaries.\n",
    "\n",
    "We will assume 40 hours/week of working and 50 salaried weeks in the year."
   ]
  },
  {
   "cell_type": "code",
   "execution_count": 11,
   "metadata": {},
   "outputs": [],
   "source": [
    "hourly_indices = df_postings[\"pay_period\"] == \"HOURLY\"\n",
    "df_postings.loc[hourly_indices, \"med_salary\"] = df_postings[\"med_salary\"][hourly_indices]*40*50\n",
    "\n",
    "weekly_indices = df_postings[\"pay_period\"] == \"WEEKLY\"\n",
    "df_postings.loc[weekly_indices, \"med_salary\"] = df_postings[\"med_salary\"][weekly_indices]*50\n",
    "\n",
    "biweekly_indices = df_postings[\"pay_period\"] == \"BIWEEKLY\"\n",
    "df_postings.loc[biweekly_indices, \"med_salary\"] = df_postings[\"med_salary\"][biweekly_indices]*25\n",
    "\n",
    "monthly_indices = df_postings[\"pay_period\"] == \"MONTHLY\"\n",
    "df_postings.loc[monthly_indices, \"med_salary\"] = df_postings[\"med_salary\"][monthly_indices]*12"
   ]
  },
  {
   "cell_type": "markdown",
   "metadata": {},
   "source": [
    "We also need to convert currencies to USD for a fair comparison."
   ]
  },
  {
   "cell_type": "code",
   "execution_count": 86,
   "metadata": {},
   "outputs": [
    {
     "data": {
      "text/plain": [
       "array(['USD', nan, 'CAD', 'BBD', 'EUR', 'AUD', 'GBP'], dtype=object)"
      ]
     },
     "execution_count": 86,
     "metadata": {},
     "output_type": "execute_result"
    }
   ],
   "source": [
    "df_postings_raw[\"currency\"].unique()"
   ]
  },
  {
   "cell_type": "code",
   "execution_count": 12,
   "metadata": {},
   "outputs": [],
   "source": [
    "#current exchange rates\n",
    "CAD_to_USD = 0.73\n",
    "BBD_to_USD = 0.50\n",
    "EUR_to_USD = 1.08\n",
    "AUD_to_USD = 0.67\n",
    "GBP_to_USD = 1.29"
   ]
  },
  {
   "cell_type": "code",
   "execution_count": 15,
   "metadata": {},
   "outputs": [],
   "source": [
    "cad_indices = df_postings[\"currency\"] == \"CAD\"\n",
    "df_postings.loc[cad_indices, \"med_salary\"] = df_postings[\"med_salary\"][cad_indices].mul(CAD_to_USD)\n",
    "\n",
    "bbd_indices = df_postings[\"currency\"] == \"BBD\"\n",
    "df_postings.loc[bbd_indices, \"med_salary\"] = df_postings[\"med_salary\"][bbd_indices].mul(BBD_to_USD)\n",
    "\n",
    "eur_indices = df_postings[\"currency\"] == \"EUR\"\n",
    "df_postings.loc[eur_indices, \"med_salary\"] = df_postings[\"med_salary\"][eur_indices].mul(EUR_to_USD)\n",
    "\n",
    "aud_indices = df_postings[\"currency\"] == \"AUD\"\n",
    "df_postings.loc[aud_indices, \"med_salary\"] = df_postings[\"med_salary\"][aud_indices].mul(AUD_to_USD)\n",
    "\n",
    "gbp_indices = df_postings[\"currency\"] == \"GBP\"\n",
    "df_postings.loc[gbp_indices, \"med_salary\"] = df_postings[\"med_salary\"][gbp_indices].mul(GBP_to_USD)"
   ]
  },
  {
   "cell_type": "markdown",
   "metadata": {},
   "source": [
    "We are only interested in job postings that have descriptions, titles, salaries, locations, views, applications, and experience levels. \n",
    "\n",
    "We will remove all other columns."
   ]
  },
  {
   "cell_type": "code",
   "execution_count": 16,
   "metadata": {},
   "outputs": [],
   "source": [
    "useful_fields = [\"med_salary\", \"description\", \"title\", \"job_id\", \"location\", \"applies\", \"views\", \"formatted_experience_level\"]"
   ]
  },
  {
   "cell_type": "code",
   "execution_count": 17,
   "metadata": {},
   "outputs": [],
   "source": [
    "df_postings = df_postings.drop([col for col in df_postings.columns if col not in useful_fields], axis=1)"
   ]
  },
  {
   "cell_type": "markdown",
   "metadata": {},
   "source": [
    "Drop all remaining samples with NaNs in any of the useful fields."
   ]
  },
  {
   "cell_type": "code",
   "execution_count": 18,
   "metadata": {},
   "outputs": [],
   "source": [
    "df_postings = df_postings.dropna(axis=0, how='any').reset_index(drop=True)"
   ]
  },
  {
   "cell_type": "code",
   "execution_count": 19,
   "metadata": {},
   "outputs": [
    {
     "name": "stdout",
     "output_type": "stream",
     "text": [
      "<class 'pandas.core.frame.DataFrame'>\n",
      "RangeIndex: 6718 entries, 0 to 6717\n",
      "Data columns (total 8 columns):\n",
      " #   Column                      Non-Null Count  Dtype  \n",
      "---  ------                      --------------  -----  \n",
      " 0   job_id                      6718 non-null   int64  \n",
      " 1   title                       6718 non-null   object \n",
      " 2   description                 6718 non-null   object \n",
      " 3   location                    6718 non-null   object \n",
      " 4   views                       6718 non-null   float64\n",
      " 5   med_salary                  6718 non-null   float64\n",
      " 6   applies                     6718 non-null   float64\n",
      " 7   formatted_experience_level  6718 non-null   object \n",
      "dtypes: float64(3), int64(1), object(4)\n",
      "memory usage: 420.0+ KB\n"
     ]
    }
   ],
   "source": [
    "df_postings.info()"
   ]
  },
  {
   "cell_type": "markdown",
   "metadata": {},
   "source": [
    "# Adding Data to Weaviate Database"
   ]
  },
  {
   "cell_type": "code",
   "execution_count": 20,
   "metadata": {},
   "outputs": [],
   "source": [
    "#connect to weaviate cloud server\n",
    "#we will use Cohere for the embedding\n",
    "client = weaviate.connect_to_weaviate_cloud(\n",
    "    cluster_url=secrets[\"WCD_URL\"],\n",
    "    auth_credentials=weaviate.auth.AuthApiKey(secrets[\"WCD_API_KEY\"]),\n",
    "    headers={\"X-Cohere-Api-Key\": secrets[\"COHERE_API_KEY\"]}\n",
    "    #headers={\"X-OpenAI-Api-Key\": secrets[\"OPENAI_API_KEY\"]}\n",
    ")"
   ]
  },
  {
   "cell_type": "code",
   "execution_count": 21,
   "metadata": {},
   "outputs": [],
   "source": [
    "#create the collection\n",
    "postings = client.collections.create(\n",
    "        name=\"Postings\",\n",
    "        vectorizer_config=wvc.config.Configure.Vectorizer.text2vec_cohere(),\n",
    "        generative_config=wvc.config.Configure.Generative.cohere()\n",
    "    )"
   ]
  },
  {
   "cell_type": "code",
   "execution_count": 22,
   "metadata": {},
   "outputs": [],
   "source": [
    "postings = client.collections.get(\"Postings\")\n",
    "\n",
    "with postings.batch.dynamic() as batch:\n",
    "    for idx, row in df_postings.iterrows(): #iterate over all datapoint\n",
    "        #code for testing a subset of postings\n",
    "        #df_postings.sample(100, replace=False).iterrows(): #iterate over sample of datapoints\n",
    "        #df_postings.iterrows(): #iterate over all datapoint\n",
    "\n",
    "        datapoint = {}\n",
    "        for col in df_postings.columns: #add every column to the database\n",
    "            datapoint[col] = row[col]\n",
    "        batch.add_object(datapoint) #add datapoint to the batch"
   ]
  },
  {
   "cell_type": "markdown",
   "metadata": {},
   "source": [
    "How many data points actually ended up in the collection?"
   ]
  },
  {
   "cell_type": "code",
   "execution_count": 23,
   "metadata": {},
   "outputs": [
    {
     "name": "stdout",
     "output_type": "stream",
     "text": [
      "There are 6718 data points in the collection.\n"
     ]
    }
   ],
   "source": [
    "postings = client.collections.get(\"Postings\")\n",
    "try:\n",
    "    count = 0\n",
    "    for item in postings.iterator():\n",
    "        count += 1\n",
    "finally:\n",
    "    client.close()\n",
    "print(f\"There are {count} data points in the collection.\")"
   ]
  },
  {
   "cell_type": "markdown",
   "metadata": {},
   "source": [
    "This is all 6718 data points."
   ]
  },
  {
   "cell_type": "markdown",
   "metadata": {},
   "source": [
    "# Query the Database\n",
    "\n",
    "Now that we have the data in the Weaviate database, we can query it for job postings related to machine learning and AI."
   ]
  },
  {
   "cell_type": "code",
   "execution_count": 24,
   "metadata": {},
   "outputs": [],
   "source": [
    "#connect to weaviate cloud server\n",
    "client = weaviate.connect_to_weaviate_cloud(\n",
    "    cluster_url=secrets[\"WCD_URL\"],\n",
    "    auth_credentials=weaviate.auth.AuthApiKey(secrets[\"WCD_API_KEY\"]),\n",
    "    headers={\"X-Cohere-Api-Key\": secrets[\"COHERE_API_KEY\"]}\n",
    "    #headers={\"X-OpenAI-Api-Key\": secrets[\"OPENAI_API_KEY\"]}\n",
    ")\n",
    "\n",
    "try:\n",
    "    postings = client.collections.get(\"Postings\")\n",
    "\n",
    "    ml_responses = postings.query.near_text( #machine learning postings\n",
    "        query=\"machine learning\",\n",
    "        limit=200\n",
    "    )\n",
    "\n",
    "\n",
    "finally:\n",
    "    client.close()"
   ]
  },
  {
   "cell_type": "markdown",
   "metadata": {},
   "source": [
    "How many objects did this return?"
   ]
  },
  {
   "cell_type": "code",
   "execution_count": 25,
   "metadata": {},
   "outputs": [
    {
     "data": {
      "text/plain": [
       "200"
      ]
     },
     "execution_count": 25,
     "metadata": {},
     "output_type": "execute_result"
    }
   ],
   "source": [
    "len(ml_responses.objects)"
   ]
  },
  {
   "cell_type": "markdown",
   "metadata": {},
   "source": [
    "Inspect one of the objects."
   ]
  },
  {
   "cell_type": "code",
   "execution_count": 26,
   "metadata": {},
   "outputs": [
    {
     "data": {
      "text/plain": [
       "{'description': 'Overview\\n\\nThe Data Scientist I is focused on machine learning solutions in Healthcare Technology and builds value-oriented, production level machine learning solutions. This is not a research oriented data scientist; instead you will apply your knowledge and experience to real world problems, and seek to utilize Artificial Intelligence and Machine Learning to reduce the cost of healthcare and improve health quality and outcomes. With access to dedicated on premise and cloud based big data solutions, the team can work with a vast amount of structured and unstructured data including claims, membership, physician demographics, medical records and others to begin to solve some of the most pressing healthcare issues of our time. A Data Scientist at Cotiviti will be given the opportunity to work directly with a team of healthcare professionals including analysts, clinicians, coding specialists, auditors and innovators to set aggressive goals and execute on them with the team. This is for an ambitious technologist, with the flexibility and personal drive to succeed in a dynamic environment where they are judged based on their direct impact to business outcomes.\\n\\nResponsibilities\\n\\nAs a Data Scientist within Cotiviti you will be responsible for delivering solutions that help our clients identify payment integrity issues, reduce the cost of healthcare processes, or improve the quality of healthcare outcomes. You will work as part of a team and will be individually responsible for the delivery of value associated with your projects. You will be expected to follow processes and practices that allow your models to be incorporated into our machine learning platform for production execution and monitoring, however, initial exploratory data analysis allows for more flexible experimentation to discover solutions to the business problems presented.\\n\\n Create actionable and pragmatic data science models with minimal supervision.  Understands business needs and identifies potential use cases in more than one business unit. Works with external partners to develop a minimal viable product to meet those needs while resolving any issues that may arise.  Consistently collaborates with fellow data scientists and frequently interacts with business partners, project managers, cross-functional teams, key stakeholders, and other domains to build analytics capabilities and drive business value.  Continuously work to be updated on the latest developments in machine learning and the healthcare industry. Work with key stakeholders both within R&D and Operations, along with product management to assess the potential value and risks associated with business problems that have the potential to be solved using machine learning and AI techniques.  Develop an exploratory data analysis approach to verify the initial hypothesis associated with potential AI/ML use cases.  Document your approach, thinking and results in standard approaches to allow other data scientists to collaborate with you on this work.  Prepare your final trained model and develop a validation test set for QA.  Work with production operations to deploy your model into production and support them in monitoring model performance. Participate in other data science teams collaborating with your peers to support their projectsParticipate in knowledge sharing sessions to bring new insights and technologies to the team.Participate in design sessions to continuously develop and improve the Cotiviti machine learning platformProvide End to End value-based solutions, including data pipeline, model creation and application for end user\\n\\nQualifications\\n\\nApplied Machine Learning: Application of a variety of machine learning techniques to increase identification of payment integrity issues for our clients, reduce the cost of auditing processes or increase the quality of care and outcomes. Must have implemented machine learning solutions within production environments at scale\\n\\nBig Data Analysis: Strong ability to manage and analyze data in a Big Data environment using a variety of scripts, potentially including but not limited to Scala/Spark and Python as well as Cloud based ML/AI capabilities.\\n\\nReasoning and Problem Solving: Ability to actively and skillfully conceptualize, apply, analyze, synthesize, and/or evaluate information gathered from, or generated by, observation, experience, reflection, reasoning, or communication, as a guide to belief and action\\n\\nConsulting: Demonstrated ability to make and gain acceptance of data-driven recommendations made to business owners. Strong ability to appropriately summarize and effectively communicate complex concepts & varied data sets to inform stakeholders, gain approval, or prompt actions; Applies to multiple audiences ranging from the analyst to executive level; Includes oral & written communication and multimedia presentation\\n\\nStatistical Analysis: Apply statistical methodology to solve business problems; appropriately interprets meaning from results\\n\\nBusiness Knowledge: Good understanding of the tenets of health insurance, the managed care model, industry coding/policy standards, the claim adjudication process, and issues related to fraud waste and abuse. Ability to apply this knowledge to the development & evaluation of new initiatives and support leading the team strategy toward best practices.\\n\\nFinancial Analysis: Ability to understand, generate and evaluate healthcare utilization, unit cost and medical cost trends. This includes understanding levers that effect healthcare cost, such as contracting, networks, policies, benefit structures, and product design. Ability to draw conclusions and make recommendations based on financial data\\n\\nFunctional Programming: Ability to work with, understand and create object oriented/functional programming solutions using modern application frameworks.\\n\\nMinimum Qualifications\\n\\n MS or PhD. Degree in relevant discipline (Math, Statistics, Computer Science, Engineering or Health Sciences) or commensurate professional work experience.  1-3 years experience building and deploying Machine learning models  1-3 years experience in working in Big Data environments  Experience developing machine learning models in an exploratory data analytics environment and working with others to develop production ready versions of the models that are deployed within operational environments  Experience in using machine learning tools to develop production strength models including, but not limited to, Python, TensorFlow, Keraes, pandas, numpy, scikit-learn, spark, scala, hive, impala  Ability to write SQL queries to efficiently extract data from relational databases  Ability to work independently as well as collaborate as a team  Flexibility to work with global teams as well geographically dispersed US based teams  Professional with ability to properly handle confidential information  Be value-driven, understand that success is based on the impact of your work rather than its complexity or the level of effort.  Ability to handle multiple tasks, prioritize and meet deadlines  Ability to work within a matrixed organization  Proficiency in all required skills and competencies above \\n\\nBase compensation ranges from $93,000.00 to $109,000.00. Specific offers are determined by various factors, such as experience, education, skills, certifications, and other business needs.\\n\\nCotiviti offers team members a competitive benefits package to address a wide range of personal and family needs, including medical, dental, vision, disability, and life insurance coverage, 401(k) savings plans, paid family leave, 9 paid holidays per year, and 17-27 days of Paid Time Off (PTO) per year, depending on specific level and length of service with Cotiviti. For information about our benefits package, please refer to our Careers page.\\n\\nSince this job will be based remotely, all interviews will be conducted virtually.\\n\\nDate of posting: 2/6/2024\\n\\nApplications are assessed on a rolling basis. We anticipate that the application window will close on 4/6/2024, but the application window may change depending on the volume of applications received or close immediately if a qualified candidate is selected.\\n\\n#senior\\n\\n',\n",
       " 'views': 70.0,\n",
       " 'med_salary': 101000.0,\n",
       " 'formatted_experience_level': 'Mid-Senior level',\n",
       " 'title': 'Data Scientist I',\n",
       " 'applies': 20.0,\n",
       " 'location': 'United States',\n",
       " 'job_id': 3904960773.0}"
      ]
     },
     "execution_count": 26,
     "metadata": {},
     "output_type": "execute_result"
    }
   ],
   "source": [
    "ml_responses.objects[13].properties"
   ]
  },
  {
   "cell_type": "markdown",
   "metadata": {},
   "source": [
    "# Analyze the ML Job Postings Data"
   ]
  },
  {
   "cell_type": "code",
   "execution_count": 27,
   "metadata": {},
   "outputs": [],
   "source": [
    "#create a dataframe of the ML responses so that we can easily plot and use the data\n",
    "ml_df = pd.DataFrame()\n",
    "for col in df_postings.columns:\n",
    "    ml_df[col] = pd.Series([post.properties[col] for post in ml_responses.objects])"
   ]
  },
  {
   "cell_type": "code",
   "execution_count": 28,
   "metadata": {},
   "outputs": [],
   "source": [
    "#encode categorical experience labels. This will allow us to plot the relationship between experience levels and other fields\n",
    "experience_labels ={\n",
    "    \"Internship\": 0,\n",
    "    \"Entry level\": 1,\n",
    "    \"Associate\": 2,\n",
    "    \"Mid-Senior level\": 3,\n",
    "    \"Director\": 4\n",
    "}\n",
    "#add this info to a new column\n",
    "ml_df[\"experience_level_encoded\"] = [experience_labels[entry] for entry in ml_df[\"formatted_experience_level\"]]"
   ]
  },
  {
   "cell_type": "code",
   "execution_count": 29,
   "metadata": {},
   "outputs": [
    {
     "data": {
      "text/html": [
       "<div>\n",
       "<style scoped>\n",
       "    .dataframe tbody tr th:only-of-type {\n",
       "        vertical-align: middle;\n",
       "    }\n",
       "\n",
       "    .dataframe tbody tr th {\n",
       "        vertical-align: top;\n",
       "    }\n",
       "\n",
       "    .dataframe thead th {\n",
       "        text-align: right;\n",
       "    }\n",
       "</style>\n",
       "<table border=\"1\" class=\"dataframe\">\n",
       "  <thead>\n",
       "    <tr style=\"text-align: right;\">\n",
       "      <th></th>\n",
       "      <th>job_id</th>\n",
       "      <th>title</th>\n",
       "      <th>description</th>\n",
       "      <th>location</th>\n",
       "      <th>views</th>\n",
       "      <th>med_salary</th>\n",
       "      <th>applies</th>\n",
       "      <th>formatted_experience_level</th>\n",
       "      <th>experience_level_encoded</th>\n",
       "    </tr>\n",
       "  </thead>\n",
       "  <tbody>\n",
       "    <tr>\n",
       "      <th>0</th>\n",
       "      <td>3.905215e+09</td>\n",
       "      <td>Machine Learning Engineer - Remote</td>\n",
       "      <td>Machine Learning Engineer - Remote - Competiti...</td>\n",
       "      <td>Chicago, IL</td>\n",
       "      <td>15.0</td>\n",
       "      <td>170000.0</td>\n",
       "      <td>4.0</td>\n",
       "      <td>Mid-Senior level</td>\n",
       "      <td>3</td>\n",
       "    </tr>\n",
       "    <tr>\n",
       "      <th>1</th>\n",
       "      <td>3.903452e+09</td>\n",
       "      <td>AI/ML Engineering Manager</td>\n",
       "      <td>Your role at Sephora:This is an opportunity fo...</td>\n",
       "      <td>San Francisco Bay Area</td>\n",
       "      <td>50.0</td>\n",
       "      <td>190720.0</td>\n",
       "      <td>8.0</td>\n",
       "      <td>Mid-Senior level</td>\n",
       "      <td>3</td>\n",
       "    </tr>\n",
       "    <tr>\n",
       "      <th>2</th>\n",
       "      <td>3.905212e+09</td>\n",
       "      <td>Machine Learning Engineer - Remote</td>\n",
       "      <td>Machine Learning Engineer - Remote - Competiti...</td>\n",
       "      <td>Los Angeles County, CA</td>\n",
       "      <td>13.0</td>\n",
       "      <td>170000.0</td>\n",
       "      <td>5.0</td>\n",
       "      <td>Mid-Senior level</td>\n",
       "      <td>3</td>\n",
       "    </tr>\n",
       "    <tr>\n",
       "      <th>3</th>\n",
       "      <td>3.905869e+09</td>\n",
       "      <td>Lead Machine Learning Engineer</td>\n",
       "      <td>Who We Are\\n\\nWe are a small deep-tech startup...</td>\n",
       "      <td>United States</td>\n",
       "      <td>14.0</td>\n",
       "      <td>200000.0</td>\n",
       "      <td>3.0</td>\n",
       "      <td>Mid-Senior level</td>\n",
       "      <td>3</td>\n",
       "    </tr>\n",
       "    <tr>\n",
       "      <th>4</th>\n",
       "      <td>3.888941e+09</td>\n",
       "      <td>Staff Machine Learning Engineer</td>\n",
       "      <td>Join our team at Workiva as a Staff Machine Le...</td>\n",
       "      <td>United States</td>\n",
       "      <td>11.0</td>\n",
       "      <td>162000.0</td>\n",
       "      <td>1.0</td>\n",
       "      <td>Mid-Senior level</td>\n",
       "      <td>3</td>\n",
       "    </tr>\n",
       "  </tbody>\n",
       "</table>\n",
       "</div>"
      ],
      "text/plain": [
       "         job_id                               title  \\\n",
       "0  3.905215e+09  Machine Learning Engineer - Remote   \n",
       "1  3.903452e+09          AI/ML Engineering Manager    \n",
       "2  3.905212e+09  Machine Learning Engineer - Remote   \n",
       "3  3.905869e+09      Lead Machine Learning Engineer   \n",
       "4  3.888941e+09     Staff Machine Learning Engineer   \n",
       "\n",
       "                                         description                location  \\\n",
       "0  Machine Learning Engineer - Remote - Competiti...             Chicago, IL   \n",
       "1  Your role at Sephora:This is an opportunity fo...  San Francisco Bay Area   \n",
       "2  Machine Learning Engineer - Remote - Competiti...  Los Angeles County, CA   \n",
       "3  Who We Are\\n\\nWe are a small deep-tech startup...           United States   \n",
       "4  Join our team at Workiva as a Staff Machine Le...           United States   \n",
       "\n",
       "   views  med_salary  applies formatted_experience_level  \\\n",
       "0   15.0    170000.0      4.0           Mid-Senior level   \n",
       "1   50.0    190720.0      8.0           Mid-Senior level   \n",
       "2   13.0    170000.0      5.0           Mid-Senior level   \n",
       "3   14.0    200000.0      3.0           Mid-Senior level   \n",
       "4   11.0    162000.0      1.0           Mid-Senior level   \n",
       "\n",
       "   experience_level_encoded  \n",
       "0                         3  \n",
       "1                         3  \n",
       "2                         3  \n",
       "3                         3  \n",
       "4                         3  "
      ]
     },
     "execution_count": 29,
     "metadata": {},
     "output_type": "execute_result"
    }
   ],
   "source": [
    "ml_df.head() #inspect the new dataframe"
   ]
  },
  {
   "cell_type": "markdown",
   "metadata": {},
   "source": [
    "### Are the numeric fields highly correlated?"
   ]
  },
  {
   "cell_type": "code",
   "execution_count": 30,
   "metadata": {},
   "outputs": [
    {
     "data": {
      "text/html": [
       "<div>\n",
       "<style scoped>\n",
       "    .dataframe tbody tr th:only-of-type {\n",
       "        vertical-align: middle;\n",
       "    }\n",
       "\n",
       "    .dataframe tbody tr th {\n",
       "        vertical-align: top;\n",
       "    }\n",
       "\n",
       "    .dataframe thead th {\n",
       "        text-align: right;\n",
       "    }\n",
       "</style>\n",
       "<table border=\"1\" class=\"dataframe\">\n",
       "  <thead>\n",
       "    <tr style=\"text-align: right;\">\n",
       "      <th></th>\n",
       "      <th>applies</th>\n",
       "      <th>views</th>\n",
       "      <th>med_salary</th>\n",
       "      <th>experience_level_encoded</th>\n",
       "    </tr>\n",
       "  </thead>\n",
       "  <tbody>\n",
       "    <tr>\n",
       "      <th>applies</th>\n",
       "      <td>1.000000</td>\n",
       "      <td>0.931381</td>\n",
       "      <td>-0.036938</td>\n",
       "      <td>0.108489</td>\n",
       "    </tr>\n",
       "    <tr>\n",
       "      <th>views</th>\n",
       "      <td>0.931381</td>\n",
       "      <td>1.000000</td>\n",
       "      <td>0.045467</td>\n",
       "      <td>0.157600</td>\n",
       "    </tr>\n",
       "    <tr>\n",
       "      <th>med_salary</th>\n",
       "      <td>-0.036938</td>\n",
       "      <td>0.045467</td>\n",
       "      <td>1.000000</td>\n",
       "      <td>0.365133</td>\n",
       "    </tr>\n",
       "    <tr>\n",
       "      <th>experience_level_encoded</th>\n",
       "      <td>0.108489</td>\n",
       "      <td>0.157600</td>\n",
       "      <td>0.365133</td>\n",
       "      <td>1.000000</td>\n",
       "    </tr>\n",
       "  </tbody>\n",
       "</table>\n",
       "</div>"
      ],
      "text/plain": [
       "                           applies     views  med_salary  \\\n",
       "applies                   1.000000  0.931381   -0.036938   \n",
       "views                     0.931381  1.000000    0.045467   \n",
       "med_salary               -0.036938  0.045467    1.000000   \n",
       "experience_level_encoded  0.108489  0.157600    0.365133   \n",
       "\n",
       "                          experience_level_encoded  \n",
       "applies                                   0.108489  \n",
       "views                                     0.157600  \n",
       "med_salary                                0.365133  \n",
       "experience_level_encoded                  1.000000  "
      ]
     },
     "execution_count": 30,
     "metadata": {},
     "output_type": "execute_result"
    }
   ],
   "source": [
    "ml_df[[\"applies\", \"views\", \"med_salary\", \"experience_level_encoded\"]].corr(numeric_only=True)"
   ]
  },
  {
   "cell_type": "markdown",
   "metadata": {},
   "source": [
    "The numbers of views and applications are very strongly correlated. Let's plot the relation."
   ]
  },
  {
   "cell_type": "code",
   "execution_count": 31,
   "metadata": {},
   "outputs": [
    {
     "data": {
      "image/png": "[encoded data removed]",
      "text/plain": [
       "<Figure size 640x480 with 1 Axes>"
      ]
     },
     "metadata": {},
     "output_type": "display_data"
    }
   ],
   "source": [
    "plt.figure()\n",
    "sns.regplot(x=\"views\", y=\"applies\", data=ml_df[[\"views\", \"applies\"]])\n",
    "plt.xlabel(\"Views\")\n",
    "plt.ylabel(\"Applications\")\n",
    "plt.title(\"Machine Learning Job Postings Views vs. Applications\")\n",
    "plt.show()"
   ]
  },
  {
   "cell_type": "code",
   "execution_count": 41,
   "metadata": {},
   "outputs": [
    {
     "name": "stdout",
     "output_type": "stream",
     "text": [
      "LinregressResult(slope=0.34292321467744613, intercept=-4.683683361970903, rvalue=0.9313808177113774, pvalue=7.80966600626731e-89, stderr=0.009525630431731142, intercept_stderr=0.9309704229484824)\n"
     ]
    }
   ],
   "source": [
    "result = linregress(ml_df['views'].to_numpy(), ml_df['applies'].to_numpy())\n",
    "print(result)"
   ]
  },
  {
   "cell_type": "markdown",
   "metadata": {},
   "source": [
    "Unsurprisingly, the more views a posting gets, the more applicants it is likely to receive. There is a ratio of ~0.34 applications per view."
   ]
  },
  {
   "cell_type": "markdown",
   "metadata": {},
   "source": [
    "### How many jobs postings are there for each level of experience?"
   ]
  },
  {
   "cell_type": "code",
   "execution_count": 53,
   "metadata": {},
   "outputs": [
    {
     "data": {
      "image/png": "[encoded data removed]",
      "text/plain": [
       "<Figure size 640x480 with 1 Axes>"
      ]
     },
     "metadata": {},
     "output_type": "display_data"
    }
   ],
   "source": [
    "ml_df.formatted_experience_level.value_counts()[[\"Internship\", \"Entry level\", \"Associate\", \"Mid-Senior level\", \"Director\"]].plot(kind='bar', \n",
    "                                                                                                        xlabel=\"\", \n",
    "                                                                                                        ylabel=\"Number of Postings\",\n",
    "                                                                                                        title=\"Amount of ML Job Postings by Experience LeveL\")\n",
    "plt.xticks(rotation=40)\n",
    "plt.show()"
   ]
  },
  {
   "cell_type": "markdown",
   "metadata": {},
   "source": [
    "There are more mid-senior level job postings than all other levels combined. This makes sense because it is the most broad category encompassing the most numbers of years of experience."
   ]
  },
  {
   "cell_type": "markdown",
   "metadata": {},
   "source": [
    "### How does salary change with experience?"
   ]
  },
  {
   "cell_type": "code",
   "execution_count": 54,
   "metadata": {},
   "outputs": [
    {
     "data": {
      "image/png": "[encoded data removed]",
      "text/plain": [
       "<Figure size 640x480 with 1 Axes>"
      ]
     },
     "metadata": {},
     "output_type": "display_data"
    }
   ],
   "source": [
    "plt.figure()\n",
    "\n",
    "#put the data in a form that is useable by pyplot\n",
    "levels = [\"Internship\", \"Entry level\", \"Associate\", \"Mid-Senior level\", \"Director\"]\n",
    "data = [ml_df[\"med_salary\"][ml_df[\"formatted_experience_level\"] == level] for level in levels]\n",
    "plt.hist(data, bins=20, label=levels, histtype='bar', stacked=True)\n",
    "\n",
    "plt.legend(loc=\"upper left\", prop={'size': 12})\n",
    "plt.xticks(rotation=20)\n",
    "plt.xlabel(\"Salary\")\n",
    "plt.ylabel(\"Number of Postings\")\n",
    "plt.title(\"Salary Distribution by Experience Level\")\n",
    "plt.show()"
   ]
  },
  {
   "cell_type": "markdown",
   "metadata": {},
   "source": [
    "There is a trend towards higher salaries as experience levels increase. However, there is a large variance in salaries at all experience levels."
   ]
  }
 ],
 "metadata": {
  "kernelspec": {
   "display_name": "base",
   "language": "python",
   "name": "python3"
  },
  "language_info": {
   "codemirror_mode": {
    "name": "ipython",
    "version": 3
   },
   "file_extension": ".py",
   "mimetype": "text/x-python",
   "name": "python",
   "nbconvert_exporter": "python",
   "pygments_lexer": "ipython3",
   "version": "3.8.19"
  }
 },
 "nbformat": 4,
 "nbformat_minor": 2
}
